{
 "cells": [
  {
   "cell_type": "markdown",
   "metadata": {},
   "source": [
    "# Depuracion de datos mixtos\n",
    "\n",
    "El presente notebook realiza la exploración inicial y depuración de datos agregados de vegetación consolidados por el SMBYC.\n",
    "Se requieren los siguientes archivos:\n",
    "\n",
    "1. `asignacion`: Tabla en formato csv. Contiene información básica de las parcelas (ubicación, custodio, etc.).\n",
    "2. `individuos`: Tabla en formato csv. Contiene medidas y demás datos relacionos con los individuos (diámetro, altura, parcela, placa, etc.). "
   ]
  },
  {
   "cell_type": "code",
   "execution_count": null,
   "metadata": {
    "collapsed": false
   },
   "outputs": [],
   "source": [
    "import pandas as pd\n",
    "import numpy as np\n",
    "%matplotlib inline\n",
    "\n",
    "# Asignar nombres de archivos a variables\n",
    "asignacion = \"../data/quimera/asignacion.csv\"\n",
    "individuos =  \"../data/quimera/newind.csv\""
   ]
  },
  {
   "cell_type": "code",
   "execution_count": null,
   "metadata": {
    "collapsed": true
   },
   "outputs": [],
   "source": []
  },
  {
   "cell_type": "code",
   "execution_count": null,
   "metadata": {
    "collapsed": false
   },
   "outputs": [],
   "source": [
    "asig = pd.read_csv(asignacion)\n",
    "ind = pd.read_csv(individuos, low_memory=False) # low_memory asume que los datos estan homogeneamente tipificados.\n",
    "tot = ind.join(asig.set_index('Plot'), on='Plot', rsuffix='_a') # concatenacion de ambas tablas usando en indice de parcela (`Plot`) como columna de referencia"
   ]
  },
  {
   "cell_type": "markdown",
   "metadata": {},
   "source": [
    "### Variables para los nombres de las columnas\n",
    "\n",
    "A continuación se adjudica una variable a cada nombre de la columna en ambos archivos. Si los nombres no son los mencionados deben ser actualizados en concordancia. El nombre de la columna que contiene el indice de la parcela debe ser igual en ambos archivos."
   ]
  },
  {
   "cell_type": "code",
   "execution_count": null,
   "metadata": {
    "collapsed": true
   },
   "outputs": [],
   "source": [
    "FID = 'FID' # Indice de medicion (int)\n",
    "Plot = 'Plot' # Indice parcela (int)\n",
    "D = 'D'# Diametro del tallo en cm (float)\n",
    "H = 'H' # Altura total del tallo en m (float)\n",
    "X = 'X' # Coordenada X en m (float)\n",
    "Y = 'Y' # Coordenada Y en m (float)\n",
    "Placa = 'Placa' # Placa de referencia del individuo (str, aunque la mayoria son int)\n",
    "Densidad = 'Densidad' # Densidad de la madera en gr/ml (float)\n",
    "Fuente_densidad = 'Fuente_densidad' # Referencia bibliografica de la densidad de la madera (str)\n",
    "Habito = 'Habito' # Clasificacion de referencia (str: 'Arborea', 'Palma', 'No-Arborea', 'Exotica', 'Paramo', 'Mangle').\n",
    "Entra_calculos = 'Entra_calculos' # Inclusion en analisis (str: 'Si', 'No')\n",
    "Familia = 'Familia' # Familia taxonomica (str)\n",
    "Autor_familia = 'Autor_familia' # Autor familia taxonomica (str)\n",
    "Genero = 'Genero' # Genero taxonomica (str)\n",
    "Autor_genero = 'Autor_genero' # Autor genero taxonomica (str)\n",
    "Estado_epiteto = 'Estado_epiteto' # Incertidumbre de la determinacion especifica (str: 'aff.', 'cf.', 'vs.', 'gr.')\n",
    "Epiteto = 'Epiteto' # Epiteto especifico, si indeterminado a especie contiene 'sp.' (str)\n",
    "Autor_especie = 'Autor_especie' # Autor epiteto taxonomico (str)\n",
    "Morfoespecie = 'Morfoespecie' # Concatenacion de los campos Genero y Epiteto (str).\n",
    "\n",
    "fields_ind = [FID, Plot, D, H, X, Y, Placa, Densidad, Fuente_densidad, Habito, Entra_calculos, Familia, Autor_familia, Genero, Autor_genero, Estado_epiteto, Epiteto, Autor_especie, Morfoespecie]\n"
   ]
  },
  {
   "cell_type": "code",
   "execution_count": null,
   "metadata": {
    "collapsed": false
   },
   "outputs": [],
   "source": [
    "100 * 100 * 0.02"
   ]
  },
  {
   "cell_type": "code",
   "execution_count": null,
   "metadata": {
    "collapsed": false
   },
   "outputs": [],
   "source": [
    "cusdep = asig.groupby([Custodio_abreviado,Departamento]).size().reset_index()\n",
    "print cusdep[cusdep[0] > 10]"
   ]
  },
  {
   "cell_type": "code",
   "execution_count": null,
   "metadata": {
    "collapsed": true
   },
   "outputs": [],
   "source": [
    "Area = 'Area' # Superficie de la parcela en hectareas (float64)\n",
    "Year = 'Year' # Año de levantamiento de datos (int64)\n",
    "Tipo_parcela = 'Tipo_parcela' # Clase de parcela (str: 'Temporal', 'Permanente')\n",
    "Custodio = 'Custodio' # Autor o custodio de la informacion (str)\n",
    "Custodio_abreviado = 'Custodio_abreviado' # Abreviatura del autor o custodio de la informacion (str)\n",
    "Parcela_original = 'Parcela_original' # Codigo de la parcela empleado por el custodio (str)\n",
    "Proyecto = 'Proyecto' # Codigo del proyecto bajo el cual la parcela fue establecida (str)\n",
    "PID = 'PID' # Que carajos es esto???????????????\n",
    "X = 'X' # Coordenada X WGS84 zona 18N en m, origen en 0°, -75° (float64). Reformatear a numerico, aunque hay unos valores con dobles comas.\n",
    "Y = 'Y' # Coordenada x WGS84 zona 18N en m, origen en 0°, -75° (float64). Reformatear a numerico, aunque hay unos valores con dobles comas.\n",
    "X_MAGNA = 'X_MAGNA' # Coordenada x Magna en m (float64). Reformatear a numerico, aunque hay unos valores con dobles comas.\n",
    "Y_MAGNA = 'Y_MAGNA' # Coordenada y Magna en m (float64). Reformatear a numerico, aunque hay unos valores con dobles comas.\n",
    "Acceso = 'Acceso' # Clase de acceso permitido al IDEAM por el custodio (str: 'Confidencial','Público').\n",
    "Departamento = 'Departamento' # Departamento str.\n",
    "Municipio = 'Municipio' # Municipio str.\n",
    "CAR = 'CAR' # Corporacion autonoma regional con jurisdiccion en el sitio de muestreo (str).\n",
    "UAESPNN = 'UAESPNN' # Unidad del sistema de areas protegidas con jurisdiccion en el sitio de muestreo (str).\n",
    "Region = 'Region' # Region geografica de Colombia (str: 'Amazonia', 'Caribe', 'Andes', 'Pacifico', 'Orinoquia', 'Andina').\n",
    "Escenario_referencia = 'Escenario_referencia' # Unidad geografica de referencia (str: 'Amazonia', 'Noroccidental', 'Caribe', 'Suroccidental', 'Antioquia','Andes oriental', 'Eje cafetero', 'Nororiental', 'Orinoquia')\n",
    "ECP = 'ECP' # ????????????????????????????????? (float64)\n",
    "Holdridge = 'Holdridge' # Clasificacion climatica de Holdridge, modelo 2014 (str)\n",
    "Provincia = 'Provincia' # Provincia bioclimatica, modelo 2014 (str: 'Wet forest', 'Moist forest', 'Dry forest')\n",
    "Caldas_Lang = 'Caldas_Lang' # Clasificacion climatica Caldas-Lang, modelo 2014 (str)\n",
    "Martonne = 'Martonne' # Clasificacion climatica Martonne, modelo 2014 (str: 'Bosque lluvioso','Bosque lluvioso estacional','Bosque húmedo','Bosque subhúmedo')\n",
    "Eq1 = 'Eq1' # Valor de biomasa al aplicar la ecuacion 1 (int64)\n",
    "Eq2 = 'Eq2' # Valor de biomasa al aplicar la ecuacion 2 (int64)\n",
    "Eq3 = 'Eq3' # Valor de biomasa al aplicar la ecuacion 3 (int64)\n",
    "\n",
    "fields_asig = [Plot, Area, Year, Tipo_parcela, Custodio, Custodio_abreviado, Parcela_original, Proyecto, PID, X, Y, X_MAGNA, Y_MAGNA, Acceso, Departamento, Municipio, CAR, UAESPNN, Region, Escenario_referencia, ECP, Holdridge, Provincia, Caldas_Lang, Martonne, Eq1, Eq2, Eq3]"
   ]
  },
  {
   "cell_type": "markdown",
   "metadata": {},
   "source": [
    "### Verificar si las columnas tienen el tipo de dato apropiado"
   ]
  },
  {
   "cell_type": "code",
   "execution_count": null,
   "metadata": {
    "collapsed": false
   },
   "outputs": [],
   "source": [
    "# Verificar si todas las columnas tienen el tipo de dato adecuado\n",
    "for fi in [FID, Plot]:\n",
    "    if ind[fi].dtype != np.int64:\n",
    "        print \"Campo {0} tiene tipo inapropiado ({1} en vez de int64).\".format(fi, ind[fi].dtype)\n",
    "        \n",
    "for fi in [D, H, X, Y, Densidad]:\n",
    "    if ind[fi].dtype != np.float64:\n",
    "        print \"Campo {0} tiene tipo inapropiado ({1}en vez de float64).\".format(fi, ind[fi].dtype)\n",
    "        \n",
    "for fi in [Placa, Fuente_densidad, Habito, Familia, Autor_familia, Genero, Autor_genero, Estado_epiteto, Epiteto, Autor_especie, Morfoespecie]:\n",
    "    non_strings = ind[fi].dropna()[~ind[fi].dropna().apply(type).eq(str)]\n",
    "    if len(non_strings):\n",
    "        print \"Campo {0} tiene tipo inapropiado ({1} en vez de str).\".format(fi, non_strings.dtype)\n",
    "\n",
    "try:\n",
    "    ind[Entra_calculos].replace(to_replace = ['Si','No'], value = [True, False], inplace = True)\n",
    "except TypeError, ErrorMessage:\n",
    "    if ErrorMessage.args[0] == \"Cannot compare types 'ndarray(dtype=bool)' and 'str'\":\n",
    "        pass\n",
    "    else:\n",
    "        raise\n",
    "except:\n",
    "    raise\n",
    "\n",
    "if ind[Entra_calculos].dtype != np.bool_:\n",
    "    print \"Campo {0} tiene tipo inapropiado ({1} en vez de str).\".format(Entra_calculos, ind[Entra_calculos].dtype)\n",
    "\n",
    "# Verificacion de tipo de datos en tabla asignacion    \n",
    "\n",
    "asig[X].replace(to_replace=r',',value='',regex=True, inplace=True)\n",
    "asig[Y].replace(to_replace=r',',value='',regex=True, inplace=True)\n",
    "asig[X_MAGNA].replace(to_replace=r',',value='',regex=True, inplace=True)\n",
    "asig[Y_MAGNA].replace(to_replace=r',',value='',regex=True, inplace=True)\n",
    "asig[[X,Y,X_MAGNA,Y_MAGNA]] = asig[[X,Y,X_MAGNA,Y_MAGNA]].apply(pd.to_numeric)\n",
    "for fi in [Plot, Year, X, Y, X_MAGNA, Y_MAGNA, Eq1, Eq2, Eq3]:\n",
    "    if asig[fi].dtype != np.int64:\n",
    "        print \"Campo {0} tiene tipo inapropiado ({1} en vez de int64).\".format(fi, asig[fi].dtype)\n",
    "        \n",
    "for fi in [Area]:\n",
    "    if asig[fi].dtype != np.float64:\n",
    "        print \"Campo {0} tiene tipo inapropiado ({1} en vez de float64).\".format(fi, asig[fi].dtype)\n",
    "        \n",
    "for fi in [Tipo_parcela, Custodio, Custodio_abreviado, Parcela_original, Departamento, Municipio, CAR, UAESPNN, Region, Escenario_referencia, Holdridge, Provincia, Caldas_Lang, Martonne]:\n",
    "    non_strings = asig[fi].dropna()[~asig[fi].dropna().apply(type).eq(str)]\n",
    "    if len(non_strings):\n",
    "        print \"Campo {0} tiene tipo inapropiado ({1} en vez de str).\".format(fi, non_strings.dtype)"
   ]
  },
  {
   "cell_type": "markdown",
   "metadata": {},
   "source": [
    "### Verificar si los valores estan en el rango apropiado\n",
    "\n",
    "En este punto del proceso sólo se verifica que los valores tengan sentido lógico. Una mayor depuración de los datos se realizará después de que éstos sean incluidos en la base de datos."
   ]
  },
  {
   "cell_type": "code",
   "execution_count": null,
   "metadata": {
    "collapsed": false
   },
   "outputs": [],
   "source": [
    "# Indice no debe contener duplicado\n",
    "if len(ind[ind[FID].duplicated()]):\n",
    "    print \"Tabla {0} contiene indices duplicados.\".format(individuos)\n",
    "    \n",
    "# Rango de diametro = 10-770 (diametro de General Sherman)\n",
    "if ind[D].min() < 10:\n",
    "    print \"Existen valores de diametro inferiores a 10 cm\"\n",
    "if ind[D].max() > 770:\n",
    "    print \"Existen valores de diametro dudosamente altos\"\n",
    "    \n",
    "# Rango de alturas = 1 - 100\n",
    "if ind[H].min() < 1:\n",
    "    print \"Existen valores de altura inferiores a 1 m\"\n",
    "if ind[H].max() > 770:\n",
    "    print \"Existen valores de altura dudosamente altos\"\n",
    "\n",
    "# Rango de densidades de madera = 0.08 - 1.39 (Global Wood Density Database compilada por Chave y diponible en http://datadryad.org/repo/handle/10255/dryad.235)\n",
    "if ind[Densidad].min() < 0.08:\n",
    "    print \"Existen valores de densidad inferiores a 0.8 gr/ml\"\n",
    "if ind[Densidad].max() > 1.39:\n",
    "    print \"Existen valores de densidad superiores a 1.39 gr/ml\"\n",
    "    \n",
    "# Estados de incertidumbre taxonomica = 'aff.', 'cf.', 'vel sp. aff.'\n",
    "for est in ind[Estado_epiteto].dropna()unique():\n",
    "    if est not in ['aff.', 'cf.', 'vel sp. aff.']:\n",
    "        print \"{0} no es un estado de incertidumbre de determincacion aceptado\".format(est)\n",
    "        \n",
    "# Indice de parcela no debe tener duplicados\n",
    "if len(asig[asig[Plot].duplicated()]):\n",
    "    print \"Tabla {0} contiene indices duplicados.\".format(asignacion)\n",
    "    \n",
    "# Verificar areas, rango permitido: 0.02-25 ha\n",
    "if asig[H].min() < 0.02:\n",
    "    print \"Algunos valores de area de parcela estan por debajo del valor minimo\"\n",
    "if asig[H].max() > 25:\n",
    "    print \"Algunos valores de area de parcela son sospechosamente altos\"\n",
    "    \n",
    "# Rango de años permitido: 1990-2017\n",
    "if asig[Year].min() < 1990:\n",
    "    print \"Realmente hay datos levantados antes de 1990?\"\n",
    "if asig[Year].max() > 2017:\n",
    "    print \"Parece que algunos datos provienen del futuro. Verificar fechas.\"\n",
    "\n",
    "# Verificar correspondencia 1:1 entre el indice propio de parcela y el indice del custodio     \n",
    "if filter(lambda x: x != 1, asig.groupby([Plot, Parcela_original]).size()):\n",
    "    print \"No hay concordancia entre las asignaciones de indices propios y externos:\"\n",
    "    multiPlots = asig.groupby([Plot, Parcela_original]).size().reset_index()\n",
    "    print multiPlots[multiPlots[0] > 1]\n",
    "    "
   ]
  },
  {
   "cell_type": "code",
   "execution_count": null,
   "metadata": {
    "collapsed": false,
    "scrolled": true
   },
   "outputs": [],
   "source": [
    "sorted(list(ind.Estado_epiteto.dropna().unique()))"
   ]
  },
  {
   "cell_type": "code",
   "execution_count": null,
   "metadata": {
    "collapsed": false
   },
   "outputs": [],
   "source": [
    "ind[(ind.Estado_epiteto == 'gr.') | (ind.Estado_epiteto == 'vs.')][[Familia,Genero,Epiteto,Estado_epiteto]]"
   ]
  },
  {
   "cell_type": "code",
   "execution_count": null,
   "metadata": {
    "collapsed": false
   },
   "outputs": [],
   "source": [
    "asig.dtypes"
   ]
  },
  {
   "cell_type": "code",
   "execution_count": null,
   "metadata": {
    "collapsed": false
   },
   "outputs": [],
   "source": [
    "for d in range(10,450,10):\n",
    "    heights = ind.H[(ind.D >= d) & (ind.D < (d+10))]\n",
    "    if len(heights) > 20:\n",
    "        mean = heights.mean()\n",
    "        std = heights.std()\n",
    "        print d, d+10\n",
    "        print len(ind[(ind.D >= d) & (ind.D < (d+10)) & (ind.H < (mean - 2*std))])\n",
    "        print tot[(tot.D >= d) & (tot.D < (d+10)) & (tot.H < (mean - 2*std))].groupby(['Custodio_abreviado']).size()\n",
    "        print len(ind[(ind.D >= d) & (ind.D < (d+10)) & (ind.H > (mean + 2*std))])\n",
    "        print tot[(tot.D >= d) & (tot.D < (d+10)) & (tot.H > (mean + 2*std))].groupby(['Custodio_abreviado']).size()\n",
    "        #ind.H[(ind.D >= d) & (ind.D < (d+10)) & (ind.H < (mean + 2*std)) & (ind.H > (mean - 2*std))].hist(bins=20)\n",
    "        print \"\""
   ]
  },
  {
   "cell_type": "code",
   "execution_count": null,
   "metadata": {
    "collapsed": true
   },
   "outputs": [],
   "source": [
    "ind.st"
   ]
  },
  {
   "cell_type": "code",
   "execution_count": null,
   "metadata": {
    "collapsed": false
   },
   "outputs": [],
   "source": [
    "print chave(20, -70, -3)\n",
    "print chave(25, -70, -3)\n",
    "print chave(30, -70, -3)"
   ]
  },
  {
   "cell_type": "code",
   "execution_count": null,
   "metadata": {
    "collapsed": false
   },
   "outputs": [],
   "source": [
    "ind.plot.scatter(x=D, y=H)"
   ]
  }
 ],
 "metadata": {
  "kernelspec": {
   "display_name": "Python 2",
   "language": "python",
   "name": "python2"
  },
  "language_info": {
   "codemirror_mode": {
    "name": "ipython",
    "version": 2
   },
   "file_extension": ".py",
   "mimetype": "text/x-python",
   "name": "python",
   "nbconvert_exporter": "python",
   "pygments_lexer": "ipython2",
   "version": "2.7.6"
  }
 },
 "nbformat": 4,
 "nbformat_minor": 0
}
