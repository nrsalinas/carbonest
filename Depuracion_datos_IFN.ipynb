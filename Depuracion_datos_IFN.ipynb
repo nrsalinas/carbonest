{
 "cells": [
  {
   "cell_type": "markdown",
   "metadata": {},
   "source": [
    "# Depuracion datos Inventario Forestal Nacional\n",
    "\n",
    "El presente notebook realiza la exploración inicial y depuración de datos del Inventario Forestal Nacional.\n",
    "\n",
    "Se requieren los siguientes tablas enformato csv:\n",
    "\n",
    "1. `detritos`: Contiene los mediciones realizadas en detritos de madera.\n",
    "\n",
    "2. `ampie`: Mediciones de árboles muertos en pie.\n",
    "    \n",
    "3. `vegetacion`: Mediciones de árboles vivos. "
   ]
  },
  {
   "cell_type": "code",
   "execution_count": null,
   "metadata": {
    "collapsed": false
   },
   "outputs": [],
   "source": [
    "import pandas as pd\n",
    "import numpy as np\n",
    "%matplotlib inline\n",
    "\n",
    "# Asignar nombres de archivos a variables\n",
    "detritos = \"../data/IFN/detritos.csv\"\n",
    "ampie =  \"../data/IFN/dasometricos/amp.csv\"\n",
    "vegetacion = \"../data/IFN/dasometricos/vegetacion.csv\"\n",
    "\n",
    "# Leer archivos como Pandas dataframes\n",
    "det = pd.read_csv(detritos) \n",
    "amp = pd.read_csv(ampie)\n",
    "veg = pd.read_csv(vegetacion)"
   ]
  },
  {
   "cell_type": "code",
   "execution_count": null,
   "metadata": {
    "collapsed": true
   },
   "outputs": [],
   "source": [
    "# Campos de mediciones de detritos\n",
    "\n",
    "CONS = \"CONS\" # Indice de medicion (int64)\n",
    "PLOT = \"PLOT\" # Indice conglomerado (int64)\n",
    "TRAN = \"TRAN\" # Transecto de detritos (str: 'A', 'B', 'C', 'D', 'E', 'F', 'G', 'H'). Hay registros sin transectos!!!\n",
    "SECC = \"SECC\" # Seccion del transecto donde se registro la pieza (str: 'II', 'III', 'I'). Hay registros sin seccion!!!!\n",
    "PIEZA = \"PIEZA\" # Numero consecutivo de la pieza en el transecto (float64). Deberia ser int64.\n",
    "TIPO = \"TIPO\" # Tipo de detrito (str: 'DFM', 'DGM')\n",
    "DIST = \"DIST\" # Distancia del detrito en cada seccion (float64 0.0-10.0)\n",
    "AZIMUT = \"AZIMUT\" # Orientacion de la pieza respecto al transecto ?????????? (float64?, 0-360)\n",
    "D1 = \"D1\" # Primer diametro de la pieza en cm (float64)\n",
    "D2 = \"D2\" # Segundo diametro de la pieza en cm (float64)\n",
    "INCL = \"INCL\" # Inclinacion de la pieza (float64). De acuerdo al manual deberia estar en el rango [-90, 90] pero en la hoja de calculo esta sesgada a valores positivos y hay valores [90, 180].\n",
    "PI_cm = \"PI_cm\" # Penetracion del penetrometro en cm (float64). Verificar valores maximos.\n",
    "PI_golpes = \"PI_golpes\" # Golpes ejecutados con el penetrometro (float64). Por que es un numero real????\n",
    "PESO_RODAJA = \"PESO_RODAJA\" # Peso de la rodaja en gr (float64)\n",
    "ESP1 = \"ESP1\" # Primer espesor de la rodaja en cm (float64)\n",
    "ESP2 = \"ESP2\" # Segundo espesor de la rodaja en cm (float64)\n",
    "ESP3 = \"ESP3\" # Tercer espesor de la rodaja en cm (float64)\n",
    "ESP4 = \"ESP4\" # Cuarto espesor de la rodaja en cm (float64)\n",
    "PESO_MUESTRA = \"PESO_MUESTRA\" # Peso fresco de la muestra en gr (float64)\n",
    "VOL = \"VOL\" # Volumen de la muestra en ml (float64). Este campo no esta incluido en los formatos del INF!!!!\n",
    "PESO_SECO = \"PESO_SECO\" # Peso fresco de la muestra en gr (float64)\n",
    "DENS = \"DENS\" # Densidad de madera de la muestra en gr/ml (float64)"
   ]
  },
  {
   "cell_type": "code",
   "execution_count": null,
   "metadata": {
    "collapsed": false
   },
   "outputs": [],
   "source": [
    "for fi in [CONS, PLOT, PI_golpes]:\n",
    "    if det[fi].dtype != np.int64:\n",
    "        print \"Campo {0} tiene tipo inapropiado ({1} en vez de int64).\".format(fi, det[fi].dtype)\n",
    "        print \"Valores a revisar:\"\n",
    "        print det[fi][det[fi].map(lambda x: x % 1.0 != 0)].dropna()\n",
    "        \n",
    "for fi in [AZIMUT, PIEZA, DIST, D1, D2, INCL, PI_cm, PESO_RODAJA, ESP1, ESP2, ESP3, ESP4, PESO_MUESTRA, VOL, PESO_SECO, DENS]:\n",
    "    if det[fi].dtype != np.float64:\n",
    "        print \"Campo {0} tiene tipo inapropiado ({1}en vez de float64).\".format(fi, det[fi].dtype)\n",
    "\n",
    "for fi in [TRAN, SECC, TIPO]:\n",
    "    non_strings = det[fi].dropna()[~det[fi].dropna().apply(type).eq(str)]\n",
    "    if len(non_strings):\n",
    "        print \"Campo {0} tiene tipo inapropiado ({1} en vez de str).\".format(fi, non_strings.dtype)\n"
   ]
  },
  {
   "cell_type": "code",
   "execution_count": null,
   "metadata": {
    "collapsed": false
   },
   "outputs": [],
   "source": [
    "# Indice no debe contener duplicado\n",
    "if len(det[det[CONS].duplicated()]):\n",
    "    print \"Tabla {0} contiene indices duplicados.\".format(detritos)\n",
    "    \n",
    "for tr in det[TRAN].dropna().unique():\n",
    "    if tr not in ['A', 'B', 'C', 'D', 'E', 'F', 'G', 'H']:\n",
    "        print \"`{0}` no es un valor valido de transecto de detrito\".format(tr)\n",
    "        \n",
    "for tr in det[SECC].dropna().unique():\n",
    "    if tr not in ['I', 'II', 'III']:\n",
    "        print \"`{0}` no es un valor valido de transecto de detrito\".format(tr)\n",
    "        "
   ]
  }
 ],
 "metadata": {
  "kernelspec": {
   "display_name": "Python 2",
   "language": "python",
   "name": "python2"
  },
  "language_info": {
   "codemirror_mode": {
    "name": "ipython",
    "version": 2
   },
   "file_extension": ".py",
   "mimetype": "text/x-python",
   "name": "python",
   "nbconvert_exporter": "python",
   "pygments_lexer": "ipython2",
   "version": "2.7.6"
  }
 },
 "nbformat": 4,
 "nbformat_minor": 0
}
