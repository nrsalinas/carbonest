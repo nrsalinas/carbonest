{
 "cells": [
  {
   "cell_type": "markdown",
   "metadata": {},
   "source": [
    "# Depuracion datos Inventario Forestal Nacional\n",
    "\n",
    "El presente notebook realiza la exploración inicial y depuración de datos del Inventario Forestal Nacional.\n",
    "\n",
    "Se requieren los siguientes tablas enformato csv:\n",
    "\n",
    "1. `detritos`: Contiene los mediciones realizadas en detritos de madera.\n",
    "\n",
    "2. `ampie`: Mediciones de árboles muertos en pie.\n",
    "    \n",
    "3. `vegetacion`: Mediciones de árboles vivos. "
   ]
  },
  {
   "cell_type": "code",
   "execution_count": null,
   "metadata": {
    "collapsed": false
   },
   "outputs": [],
   "source": [
    "import pandas as pd\n",
    "import numpy as np\n",
    "%matplotlib inline\n",
    "\n",
    "# Asignar nombres de archivos a variables\n",
    "detritos = \"../data/IFN/detritos.csv\"\n",
    "#ampie =  \"../data/IFN/dasometricos/amp.csv\"\n",
    "#vegetacion = \"../data/IFN/dasometricos/vegetacion.csv\"\n",
    "\n",
    "# Leer archivos como Pandas dataframes\n",
    "det = pd.read_csv(detritos) \n",
    "#amp = pd.read_csv(ampie)\n",
    "#veg = pd.read_csv(vegetacion)"
   ]
  },
  {
   "cell_type": "code",
   "execution_count": null,
   "metadata": {
    "collapsed": true
   },
   "outputs": [],
   "source": [
    "# Campos de mediciones de detritos\n",
    "\n",
    "CONS = \"CONS\" # Indice de medicion (int64)\n",
    "PLOT = \"PLOT\" # Indice conglomerado (int64)\n",
    "TRAN = \"TRAN\" # Transecto de detritos (str: 'A', 'B', 'C', 'D', 'E', 'F', 'G', 'H'). Hay registros sin transectos!!!\n",
    "SECC = \"SECC\" # Seccion del transecto donde se registro la pieza (str: 'II', 'III', 'I'). Hay registros sin seccion!!!!\n",
    "PIEZA = \"PIEZA\" # Numero consecutivo de la pieza en el transecto (float64). Deberia ser int64.\n",
    "TIPO = \"TIPO\" # Tipo de detrito (str: 'DFM', 'DGM')\n",
    "DIST = \"DIST\" # Distancia del detrito en cada seccion (float64 0.0-10.0)\n",
    "AZIMUT = \"AZIMUT\" # Orientacion de la pieza respecto al transecto ?????????? (float64?, 0-360)\n",
    "D1 = \"D1\" # Primer diametro de la pieza en cm (float64)\n",
    "D2 = \"D2\" # Segundo diametro de la pieza en cm (float64)\n",
    "INCL = \"INCL\" # Inclinacion de la pieza (float64). De acuerdo al manual deberia estar en el rango [-90, 90] pero en la hoja de calculo esta sesgada a valores positivos y hay valores [90, 180].\n",
    "PI_cm = \"PI_cm\" # Penetracion del penetrometro en cm (float64). Verificar valores maximos.\n",
    "PI_golpes = \"PI_golpes\" # Golpes ejecutados con el penetrometro (float64). Por que es un numero real????\n",
    "PESO_RODAJA = \"PESO_RODAJA\" # Peso de la rodaja en gr (float64)\n",
    "ESP1 = \"ESP1\" # Primer espesor de la rodaja en cm (float64)\n",
    "ESP2 = \"ESP2\" # Segundo espesor de la rodaja en cm (float64)\n",
    "ESP3 = \"ESP3\" # Tercer espesor de la rodaja en cm (float64)\n",
    "ESP4 = \"ESP4\" # Cuarto espesor de la rodaja en cm (float64)\n",
    "PESO_MUESTRA = \"PESO_MUESTRA\" # Peso fresco de la muestra en gr (float64)\n",
    "VOL = \"VOL\" # Volumen de la muestra en ml (float64). Este campo no esta incluido en los formatos del INF!!!!\n",
    "PESO_SECO = \"PESO_SECO\" # Peso fresco de la muestra en gr (float64)\n",
    "DENS = \"DENS\" # Densidad de madera de la muestra en gr/ml (float64)"
   ]
  },
  {
   "cell_type": "code",
   "execution_count": null,
   "metadata": {
    "collapsed": false
   },
   "outputs": [],
   "source": [
    "# Convertir seccion muestreo de detritos en enteros para ahorrar espacio en db\n",
    "try:\n",
    "    det[SECC].replace(to_replace = ['I','II','III'], value = [1,2,3], inplace = True)\n",
    "    # Si no existieran valores faltantes el reemplazo produciria una serie de int64, de lo contrario la columna resultante es float64\n",
    "except:\n",
    "    pass\n",
    "\n",
    "for fi in [CONS, PLOT, PI_golpes, SECC]:\n",
    "    if det[fi].dtype != np.int64:\n",
    "        print \"Campo {0} tiene tipo inapropiado ({1} en vez de int64).\".format(fi, det[fi].dtype)\n",
    "        if len(det[fi][det[fi].isna()]) > 1:\n",
    "            print \"Valores nulos son considerados np.float64:\"\n",
    "            print det[fi][det[fi].isna()]\n",
    "        else:\n",
    "            print \"Valores np.float64 a revisar:\"\n",
    "            print det[fi][det[fi].map(lambda x: x % 1.0 != 0)].dropna()\n",
    "            \n",
    "        \n",
    "for fi in [AZIMUT, PIEZA, DIST, D1, D2, INCL, PI_cm, PESO_RODAJA, ESP1, ESP2, ESP3, ESP4, PESO_MUESTRA, VOL, PESO_SECO, DENS]:\n",
    "    if det[fi].dtype != np.float64:\n",
    "        print \"Campo {0} tiene tipo inapropiado ({1}en vez de float64).\".format(fi, det[fi].dtype)\n",
    "\n",
    "for fi in [TRAN, TIPO]:\n",
    "    non_strings = det[fi].dropna()[~det[fi].dropna().apply(type).eq(str)]\n",
    "    if len(non_strings):\n",
    "        print \"Campo {0} tiene tipo inapropiado ({1} en vez de str).\".format(fi, non_strings.dtype)\n"
   ]
  },
  {
   "cell_type": "code",
   "execution_count": null,
   "metadata": {
    "collapsed": false
   },
   "outputs": [],
   "source": [
    "# Indice no debe contener duplicado\n",
    "if len(det[det[CONS].duplicated()]):\n",
    "    print \"Tabla {0} contiene indices duplicados.\".format(detritos)\n",
    "    \n",
    "for tr in det[TRAN].dropna().unique():\n",
    "    if tr not in ['A', 'B', 'C', 'D', 'E', 'F', 'G', 'H']:\n",
    "        print \"`{0}` no es un valor valido de transecto de detrito\".format(tr)\n",
    "        \n",
    "for tr in det[SECC].dropna().unique():\n",
    "    if tr not in [1,2,3]:\n",
    "        print \"`{0}` no es un valor valido de transecto de detrito\".format(tr)\n",
    "\n",
    "for tr in det[TIPO].dropna().unique():\n",
    "    if tr not in ['DFM', 'DGM']:\n",
    "        print \"`{0}` no es un valor valido de tipo de detrito\".format(tr)\n",
    "        \n",
    "#\n",
    "# Rangos Distancias\n",
    "#\n",
    "\"\"\"\n",
    "if det[DIST].min() < 0:\n",
    "    print \"Rango distancia tiene valores negativos.\"\n",
    "if det[DIST].max() > :\n",
    "    print \"Rango distancia sobrepasa el valor permitido.\"\n",
    "\"\"\"\n",
    "\n",
    "if det[AZIMUT].min() < 0:\n",
    "    print \"Rango Azimut tiene valores negativos.\"\n",
    "if det[AZIMUT].max() > 360:\n",
    "    print \"Rango Azimut sobrepasa el valor permitido (360)\"\n",
    "    \n",
    "#\n",
    "# Rangos Diametros\n",
    "#\n",
    "\"\"\"\n",
    "if det[D1].min() < or det[D2].min() <:\n",
    "    print \"Rango diametro tiene valores negativos.\"\n",
    "if det[D1].max() > or det[D2].max() >:\n",
    "    print \"Rango diametro sobrepasa el valor permitido.\"\n",
    "\"\"\"\n",
    "\n",
    "if det[INCL].min() < -90:\n",
    "    print \"Rango inclinacion tiene valores menores al valor permitido (-90).\"\n",
    "if det[INCL].max() > 90:\n",
    "    print \"Rango inclinacion sobrepasa el valor permitido (90)\"\n",
    "    \n",
    "if det[PI_cm].min() < 0:\n",
    "    print \"Hay valores negativos de entrada del penetrometro.\"\n",
    "if det[PI_cm].max() > 25:\n",
    "    print \"Valores maximos del entrada del penetrometro so dudosos:\"\n",
    "    print det[[PI_cm, D1, D2]][det[PI_cm] > 25]\n",
    "\n",
    "if det[PI_golpes].min() < 0:\n",
    "    print \"Valores negativos de golpes al penetrometro.\"\n",
    "if det[PI_golpes].max() > 25:\n",
    "    print \"Valores maximos de golpes del penetrometro son dudosos:\"\n",
    "    print det[PI_golpes][det[PI_golpes] > 25]\n"
   ]
  }
 ],
 "metadata": {
  "kernelspec": {
   "display_name": "Python 2",
   "language": "python",
   "name": "python2"
  },
  "language_info": {
   "codemirror_mode": {
    "name": "ipython",
    "version": 2
   },
   "file_extension": ".py",
   "mimetype": "text/x-python",
   "name": "python",
   "nbconvert_exporter": "python",
   "pygments_lexer": "ipython2",
   "version": "2.7.10"
  }
 },
 "nbformat": 4,
 "nbformat_minor": 0
}
