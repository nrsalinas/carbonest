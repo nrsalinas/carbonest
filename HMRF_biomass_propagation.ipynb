{
 "cells": [
  {
   "cell_type": "markdown",
   "metadata": {},
   "source": [
    "# Biomass spatial progation through HMRF\n",
    "\n",
    "Local biomass estimates are spatially propagated through Hidden Markov Random Fields.\n",
    "Hidden layer states are climation classification labels (e.g., Chave forest types or Holdridge life zones).\n",
    "Cells of the grid are classified using elevation and precipitation data loaded from a raster file."
   ]
  },
  {
   "cell_type": "code",
   "execution_count": null,
   "metadata": {
    "collapsed": true
   },
   "outputs": [],
   "source": [
    "import gdal\n",
    "import numpy as np\n",
    "import pandas as pd\n",
    "import allometry"
   ]
  },
  {
   "cell_type": "code",
   "execution_count": null,
   "metadata": {
    "collapsed": true
   },
   "outputs": [],
   "source": [
    "# Raster file paths\n",
    "alt_file = \"/home/nelson/Documents/IDEAM/cust_layers/alt/alt.tif\"\n",
    "prec_file = \"/home/nelson/Documents/IDEAM/cust_layers/precp/precp.tif\"\n",
    "\n",
    "alt_ras = gdal.Open(alt_file)\n",
    "prec_ras = gdal.Open(prec_file)\n",
    "\n",
    "transform = alt_ras.GetGeoTransform()\n",
    "altXOrigin = transform[0]\n",
    "altYOrigin = transform[3]\n",
    "altPixelWidth = transform[1]\n",
    "altPixelHeight = transform[5]\n",
    "\n",
    "transform = prec_ras.GetGeoTransform()\n",
    "precXOrigin = transform[0]\n",
    "precYOrigin = transform[3]\n",
    "precPixelWidth = transform[1]\n",
    "precPixelHeight = transform[5]\n",
    "\n",
    "# Raster data is loaded in memory as a numpy.array\n",
    "alt_band = alt_ras.GetRasterBand(1)\n",
    "alt_arr = alt_band.ReadAsArray(0,0,alt_ras.RasterXSize, alt_ras.RasterYSize)\n",
    "\n",
    "prec_band = prec_ras.GetRasterBand(1)\n",
    "prec_arr = prec_band.ReadAsArray(0,0,prec_ras.RasterXSize, prec_ras.RasterYSize)\n"
   ]
  },
  {
   "cell_type": "code",
   "execution_count": null,
   "metadata": {
    "collapsed": true
   },
   "outputs": [],
   "source": [
    "# Data containers are set based on the area extent. So far HMRF layers are square grids.\n",
    "w_limit = -76.0\n",
    "s_limit = 0.0\n",
    "e_limit = -70.0\n",
    "n_limit = 6.0\n",
    "\n",
    "lon_bords = [w_limit + x * 0.5 for x in xrange(13)]\n",
    "lat_bords = [s_limit + x * 0.5 for x in xrange(13)]\n",
    "\n",
    "alt_cont = np.zeros((len(lat_bords) - 1, len(lon_bords) - 1)) \n",
    "prec_cont = np.zeros((len(lat_bords) - 1, len(lon_bords) - 1)) \n",
    "count_cont = np.zeros((len(lat_bords) - 1, len(lon_bords) - 1)) "
   ]
  },
  {
   "cell_type": "code",
   "execution_count": null,
   "metadata": {
    "collapsed": true
   },
   "outputs": [],
   "source": [
    "# Environmental data arrays are and means are estimated for the extent of the grid cell\n",
    "it = np.nditer((alt_arr, prec_arr), flags=['multi_index'])\n",
    "while not it.finished:\n",
    "    row = it.multi_index[0]\n",
    "    col = it.multi_index[1]\n",
    "    lon = col * altPixelWidth + altXOrigin\n",
    "    lat = row * altPixelHeight + altYOrigin\n",
    "\n",
    "    if w_limit < lon < e_limit and s_limit < lat < n_limit:\n",
    "        xindx = int((lon - w_limit) / 0.5)\n",
    "        yindx = int((lat - s_limit) / 0.5)\n",
    "        \n",
    "        if it[0] >= 0 and it[1] > 0:\n",
    "            alt_cont[yindx][xindx] += it[0]\n",
    "            prec_cont[yindx][xindx] += it[1]\n",
    "            count_cont[yindx][xindx] += 1.0\n",
    "                \n",
    "    it.iternext()\n",
    "\n",
    "\n",
    "alt_cont = np.divide(alt_cont, count_cont)\n",
    "prec_cont = np.divide(prec_cont, count_cont)"
   ]
  },
  {
   "cell_type": "code",
   "execution_count": null,
   "metadata": {
    "collapsed": true
   },
   "outputs": [],
   "source": [
    "# Each cell of the grid is climatically classified\n",
    "states = {}\n",
    "sym_count = 0\n",
    "hold_cont = []\n",
    "for rowa,rowp in zip(alt_cont,prec_cont):\n",
    "    for a,p in zip(rowa, rowp):\n",
    "        myhold = allometry.holdridge_col(a,p)\n",
    "        if not myhold in states:\n",
    "            states[myhold] = sym_count\n",
    "            sym_count += 1\n",
    "        hold_cont.append(states[myhold])\n",
    "hold_cont = np.array(hold_cont)\n",
    "hold_cont = np.reshape(hold_cont, (len(lat_bords) - 1, len(lon_bords) - 1))"
   ]
  },
  {
   "cell_type": "code",
   "execution_count": null,
   "metadata": {
    "collapsed": true
   },
   "outputs": [],
   "source": [
    "# Biomass estimates from plot data are loaded into memory\n",
    "agb_plots = pd.read_csv(\"biomass_all_20180118.csv\")\n",
    "\n",
    "chaveII = []\n",
    "for lat0, lat1 in zip(lat_bords[:-1], lat_bords[1:]):\n",
    "    chaveII.append([])\n",
    "    for lon0, lon1 in zip(lon_bords[:-1], lon_bords[1:]):\n",
    "        cell_mean = agb_plots[(agb_plots.Longitud < lon1) & (agb_plots.Longitud > lon0) & \n",
    "            (agb_plots.Latitud < lat1) & (agb_plots.Latitud > lat0)]['chaveII'].mean()\n",
    "        if pd.notna(cell_mean):\n",
    "            chaveII[-1].append(cell_mean)\n",
    "        else:\n",
    "            chaveII[-1].append(0.0)\n",
    "\n",
    "chaveII = np.array(chaveII)"
   ]
  },
  {
   "cell_type": "code",
   "execution_count": null,
   "metadata": {
    "collapsed": true
   },
   "outputs": [],
   "source": [
    "# Simple HMRF class\n",
    "# Basically holds a data container and a parameter fitting to optimize emission functions\n",
    "from scipy.stats import norm\n",
    "\n",
    "class hmrf(object):\n",
    "    def __init__(self, obs, states, symbols):\n",
    "        self.rows = obs.shape[0]\n",
    "        self.cols = obs.shape[1]\n",
    "        self.obs = obs\n",
    "        self.states = states\n",
    "        self.symbols = symbols # list of symbols in hidden layer\n",
    "        self.parameters = {x:(None, None) for x in self.symbols}\n",
    "        \n",
    "          \n",
    "    def fit_params(self):\n",
    "        for state in self.symbols:\n",
    "            trainobs = []\n",
    "            for x in xrange(self.rows):\n",
    "                for y in xrange(self.cols):\n",
    "                    if self.states[x][y] == state and self.obs[x][y] > 0:\n",
    "                        trainobs.append(self.obs[x][y])\n",
    "            #print trainobs\n",
    "            self.parameters[state] = norm.fit(trainobs)"
   ]
  },
  {
   "cell_type": "code",
   "execution_count": null,
   "metadata": {
    "collapsed": true
   },
   "outputs": [],
   "source": [
    "# Example of HMRF class instantiation and observassion (biomass values) propagation \n",
    "test = hmrf(chaveII, hold_cont, (0,))\n",
    "test.fit_params()\n",
    "test.parameters"
   ]
  }
 ],
 "metadata": {
  "kernelspec": {
   "display_name": "Python 2",
   "language": "python",
   "name": "python2"
  },
  "language_info": {
   "codemirror_mode": {
    "name": "ipython",
    "version": 2
   },
   "file_extension": ".py",
   "mimetype": "text/x-python",
   "name": "python",
   "nbconvert_exporter": "python",
   "pygments_lexer": "ipython2",
   "version": "2.7.14"
  }
 },
 "nbformat": 4,
 "nbformat_minor": 2
}
