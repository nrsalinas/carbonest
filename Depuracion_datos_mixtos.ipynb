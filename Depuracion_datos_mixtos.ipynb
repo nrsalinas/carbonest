{
 "cells": [
  {
   "cell_type": "markdown",
   "metadata": {},
   "source": [
    "# Depuracion de datos mixtos\n",
    "\n",
    "El presente notebook realiza la exploración inicial y depuración de datos agregados de vegetación consolidados por el SMBYC.\n",
    "Se requieren los siguientes archivos:\n",
    "\n",
    "1. `asignacion`: Tabla en formato csv. Contiene información básica de las parcelas (ubicación, custodio, etc.).\n",
    "2. `individuos`: Tabla en formato csv. Contiene medidas y demás datos relacionos con los individuos (diámetro, altura, parcela, placa, etc.). "
   ]
  },
  {
   "cell_type": "code",
   "execution_count": 1,
   "metadata": {
    "collapsed": false
   },
   "outputs": [],
   "source": [
    "import pandas as pd\n",
    "import numpy as np\n",
    "%matplotlib inline\n",
    "\n",
    "# Asignar nombres de archivos a variables\n",
    "asignacion = \"data/quimera/asignacion.csv\"\n",
    "individuos =  \"data/quimera/newind.csv\""
   ]
  },
  {
   "cell_type": "code",
   "execution_count": 2,
   "metadata": {
    "collapsed": true
   },
   "outputs": [],
   "source": [
    "#asig = pd.read_csv(asignacion)\n",
    "ind = pd.read_csv(individuos, low_memory=False) # low_memory asume que los datos estan homogeneamente tipificados. "
   ]
  },
  {
   "cell_type": "markdown",
   "metadata": {},
   "source": [
    "### Variables para los nombres de las columnas\n",
    "\n",
    "A continuación se adjudica una variable a cada nombre de la columna en ambos archivos. Si los nombres no son los mencionados deben ser actualizados en concordancia. "
   ]
  },
  {
   "cell_type": "code",
   "execution_count": 3,
   "metadata": {
    "collapsed": true
   },
   "outputs": [],
   "source": [
    "FID = 'FID' # Indice de medicion (int)\n",
    "Plot = 'Plot' # Indice parcela (int)\n",
    "D = 'D'# Diametro del tallo en cm (float)\n",
    "H = 'H' # Altura total del tallo en m (float)\n",
    "X = 'X' # Coordenada X en m (float)\n",
    "Y = 'Y' # Coordenada Y en m (float)\n",
    "Placa = 'Placa' # Placa de referencia del individuo (str, aunque la mayoria son int)\n",
    "Densidad = 'Densidad' # Densidad de la madera en gr/ml (float)\n",
    "Fuente_densidad = 'Fuente_densidad' # Referencia bibliografica de la densidad de la madera (str)\n",
    "Habito = 'Habito' # Clasificacion de referencia (str: 'Arborea', 'Palma', 'No-Arborea', 'Exotica', 'Paramo', 'Mangle').\n",
    "Entra_calculos = 'Entra_calculos' # Inclusion en analisis (str: 'Si', 'No')\n",
    "Familia = 'Familia' # Familia taxonomica (str)\n",
    "Autor_familia = 'Autor_familia' # Autor familia taxonomica (str)\n",
    "Genero = 'Genero' # Genero taxonomica (str)\n",
    "Autor_genero = 'Autor_genero' # Autor genero taxonomica (str)\n",
    "Estado_epiteto = 'Estado_epiteto' # Incertidumbre de la determinacion especifica (str: 'aff.', 'cf.', 'vs.', 'gr.')\n",
    "Epiteto = 'Epiteto' # Epiteto especifico, si indeterminado a especie contiene 'sp.' (str)\n",
    "Autor_especie = 'Autor_especie' # Autor epiteto taxonomico (str)\n",
    "Morfoespecie = 'Morfoespecie' # Concatenacion de los campos Genero y Epiteto (str).\n",
    "\n",
    "fields_asig = [FID, Plot, D, H, X, Y, Placa, Densidad, Fuente_densidad, Habito, Entra_calculos, Familia, Autor_familia, Genero, Autor_genero, Estado_epiteto, Epiteto, Autor_especie, Morfoespecie]\n"
   ]
  },
  {
   "cell_type": "markdown",
   "metadata": {},
   "source": [
    "### Verificar si las columnas tienen el tipo de dato apropiado"
   ]
  },
  {
   "cell_type": "code",
   "execution_count": 4,
   "metadata": {
    "collapsed": false
   },
   "outputs": [],
   "source": [
    "# Verificar si todas las columnas tienen el tipo de dato adecuado\n",
    "for fi in [FID, Plot]:\n",
    "    if ind[fi].dtype != np.int64:\n",
    "        print \"Campo {0} tiene tipo inapropiado ({1} en vez de int64).\".format(fi, ind[fi].dtype)\n",
    "        \n",
    "for fi in [D, H, X, Y, Densidad]:\n",
    "    if ind[fi].dtype != np.float64:\n",
    "        print \"Campo {0} tiene tipo inapropiado ({1}en vez de float64).\".format(fi, ind[fi].dtype)\n",
    "        \n",
    "for fi in [Placa, Fuente_densidad, Habito, Familia, Autor_familia, Genero, Autor_genero, Estado_epiteto, Epiteto, Autor_especie, Morfoespecie]:\n",
    "    non_strings = ind[fi].dropna()[~ind[fi].dropna().apply(type).eq(str)]\n",
    "    if len(non_strings):\n",
    "        print \"Campo {0} tiene tipo inapropiado ({1} en vez de str).\".format(fi, non_strings.dtype)\n",
    "\n",
    "try:\n",
    "    ind[Entra_calculos].replace(to_replace = ['Si','No'], value = [True, False], inplace = True)\n",
    "except TypeError, ErrorMessage:\n",
    "    if ErrorMessage.args[0] == \"Cannot compare types 'ndarray(dtype=bool)' and 'str'\":\n",
    "        pass\n",
    "    else:\n",
    "        raise\n",
    "except:\n",
    "    raise\n",
    "\n",
    "if ind[Entra_calculos].dtype != np.bool_:\n",
    "    print \"Campo {0} tiene tipo inapropiado ({1} en vez de str).\".format(Entra_calculos, ind[Entra_calculos].dtype)"
   ]
  },
  {
   "cell_type": "markdown",
   "metadata": {},
   "source": [
    "### Verificar si los valores estan en el rango apropiado"
   ]
  },
  {
   "cell_type": "code",
   "execution_count": 5,
   "metadata": {
    "collapsed": false
   },
   "outputs": [],
   "source": [
    "# Indice no debe contener duplicado\n",
    "if len(ind[FID][ind[FID].duplicated()]):\n",
    "    print \"Tabla {0} contiene indices duplicados.\".format(individuos)\n",
    "    \n",
    "# Rango de diametro = 10-770 (diametro de General Sherman)\n",
    "if ind[D].min() < 10:\n",
    "    print \"Existen valores de diametro inferiores a 10 cm\"\n",
    "if ind[D].max() > 770:\n",
    "    print \"Existen valores de diametro dudosamente altos\"\n"
   ]
  },
  {
   "cell_type": "code",
   "execution_count": 6,
   "metadata": {
    "collapsed": false
   },
   "outputs": [],
   "source": [
    "def weibull(diameter, a = 42.574, b = 0.0482, c = 0.8307):\n",
    "    \"\"\"\n",
    "    Weibull function to estimate tree height (Feldpausch et al. 2012, \n",
    "    Biogeosciences 9:3381-3403, eq 5). Requires know values of coefficients\n",
    "    a, b, and c.\n",
    "    \n",
    "    \"\"\"\n",
    "    height = a * (1.0-np.exp(-b * diameter ** c))\n",
    "    return height"
   ]
  },
  {
   "cell_type": "code",
   "execution_count": 10,
   "metadata": {
    "collapsed": false
   },
   "outputs": [
    {
     "name": "stdout",
     "output_type": "stream",
     "text": [
      "18.7491347241\n",
      "21.4057287825\n",
      "23.6913852612\n"
     ]
    }
   ],
   "source": [
    "print weibull(20)\n",
    "print weibull(25)\n",
    "print weibull(30)"
   ]
  },
  {
   "cell_type": "code",
   "execution_count": 30,
   "metadata": {
    "collapsed": false
   },
   "outputs": [
    {
     "name": "stdout",
     "output_type": "stream",
     "text": [
      "2.8 19.04\n"
     ]
    }
   ],
   "source": [
    "print 10.92-(2*4.06),10.92+(2*4.06)"
   ]
  },
  {
   "cell_type": "code",
   "execution_count": 28,
   "metadata": {
    "collapsed": false
   },
   "outputs": [
    {
     "data": {
      "text/plain": [
       "<matplotlib.axes.AxesSubplot at 0x7f7079624790>"
      ]
     },
     "execution_count": 28,
     "metadata": {},
     "output_type": "execute_result"
    },
    {
     "data": {
      "image/png": "[encoded data removed]",
      "text/plain": [
       "<matplotlib.figure.Figure at 0x7f7079a2c0d0>"
      ]
     },
     "metadata": {},
     "output_type": "display_data"
    }
   ],
   "source": [
    "ind.H[(ind.D >= 10) & (ind.D < 20)].hist(bins=50)"
   ]
  },
  {
   "cell_type": "code",
   "execution_count": 29,
   "metadata": {
    "collapsed": false
   },
   "outputs": [
    {
     "data": {
      "text/plain": [
       "count    205852.000000\n",
       "mean         10.919502\n",
       "std           4.059461\n",
       "min           1.100000\n",
       "25%           8.000000\n",
       "50%          11.000000\n",
       "75%          13.000000\n",
       "max          80.200000\n",
       "Name: H, dtype: float64"
      ]
     },
     "execution_count": 29,
     "metadata": {},
     "output_type": "execute_result"
    }
   ],
   "source": [
    "ind.H[(ind.D >= 10) & (ind.D < 20)].describe()"
   ]
  },
  {
   "cell_type": "code",
   "execution_count": 45,
   "metadata": {
    "collapsed": false
   },
   "outputs": [
    {
     "name": "stdout",
     "output_type": "stream",
     "text": [
      "10 20\n",
      "1261\n",
      "5800\n",
      "Axes(0.125,0.125;0.775x0.775)\n",
      "\n",
      "20 30\n",
      "1405\n",
      "2433\n",
      "Axes(0.125,0.125;0.775x0.775)\n",
      "\n",
      "30 40\n",
      "348\n",
      "1006\n",
      "Axes(0.125,0.125;0.775x0.775)\n",
      "\n",
      "40 50\n",
      "137\n",
      "644\n",
      "Axes(0.125,0.125;0.775x0.775)\n",
      "\n",
      "50 60\n",
      "88\n",
      "213\n",
      "Axes(0.125,0.125;0.775x0.775)\n",
      "\n",
      "60 70\n",
      "98\n",
      "131\n",
      "Axes(0.125,0.125;0.775x0.775)\n",
      "\n",
      "70 80\n",
      "31\n",
      "83\n",
      "Axes(0.125,0.125;0.775x0.775)\n",
      "\n",
      "80 90\n",
      "35\n",
      "24\n",
      "Axes(0.125,0.125;0.775x0.775)\n",
      "\n",
      "90 100\n",
      "21\n",
      "24\n",
      "Axes(0.125,0.125;0.775x0.775)\n",
      "\n",
      "100 110\n",
      "14\n",
      "8\n",
      "Axes(0.125,0.125;0.775x0.775)\n",
      "\n",
      "110 120\n",
      "11\n",
      "9\n",
      "Axes(0.125,0.125;0.775x0.775)\n",
      "\n",
      "120 130\n",
      "12\n",
      "8\n",
      "Axes(0.125,0.125;0.775x0.775)\n",
      "\n",
      "130 140\n",
      "1\n",
      "9\n",
      "Axes(0.125,0.125;0.775x0.775)\n",
      "\n",
      "140 150\n",
      "4\n",
      "7\n",
      "Axes(0.125,0.125;0.775x0.775)\n",
      "\n",
      "150 160\n",
      "1\n",
      "2\n",
      "Axes(0.125,0.125;0.775x0.775)\n",
      "\n",
      "160 170\n",
      "0\n",
      "2\n",
      "Axes(0.125,0.125;0.775x0.775)\n",
      "\n",
      "170 180\n",
      "0\n",
      "1\n",
      "Axes(0.125,0.125;0.775x0.775)\n",
      "\n",
      "180 190\n",
      "2\n",
      "1\n",
      "Axes(0.125,0.125;0.775x0.775)\n",
      "\n",
      "190 200\n",
      "4\n",
      "0\n",
      "Axes(0.125,0.125;0.775x0.775)\n",
      "\n",
      "200 210\n",
      "2\n",
      "0\n",
      "Axes(0.125,0.125;0.775x0.775)\n",
      "\n",
      "210 220\n",
      "1\n",
      "0\n",
      "Axes(0.125,0.125;0.775x0.775)\n",
      "\n",
      "220 230\n",
      "1\n",
      "0\n",
      "Axes(0.125,0.125;0.775x0.775)\n",
      "\n",
      "250 260\n",
      "1\n",
      "0\n",
      "Axes(0.125,0.125;0.775x0.775)\n",
      "\n",
      "280 290\n",
      "1\n",
      "0\n",
      "Axes(0.125,0.125;0.775x0.775)\n",
      "\n"
     ]
    },
    {
     "data": {
      "image/png": "[encoded data removed]",
      "text/plain": [
       "<matplotlib.figure.Figure at 0x7f7078cf00d0>"
      ]
     },
     "metadata": {},
     "output_type": "display_data"
    }
   ],
   "source": [
    "for d in range(10,450,10):\n",
    "    heights = ind.H[(ind.D >= d) & (ind.D < (d+10))]\n",
    "    if len(heights) > 20:\n",
    "        mean = heights.mean()\n",
    "        std = heights.std()\n",
    "        print d, d+10\n",
    "        print len(ind[(ind.D >= d) & (ind.D < (d+10)) & (ind.H < (mean - 2*std))])\n",
    "        print len(ind[(ind.D >= d) & (ind.D < (d+10)) & (ind.H > (mean + 2*std))])\n",
    "        print ind.H[(ind.D >= d) & (ind.D < (d+10)) & (ind.H < (mean + 2*std)) & (ind.H > (mean - 2*std))].hist(bins=20)\n",
    "        print \"\""
   ]
  },
  {
   "cell_type": "code",
   "execution_count": null,
   "metadata": {
    "collapsed": true
   },
   "outputs": [],
   "source": [
    "ind.st"
   ]
  },
  {
   "cell_type": "code",
   "execution_count": 12,
   "metadata": {
    "collapsed": true
   },
   "outputs": [],
   "source": [
    "import gdal"
   ]
  },
  {
   "cell_type": "code",
   "execution_count": 13,
   "metadata": {
    "collapsed": true
   },
   "outputs": [],
   "source": [
    "E_raster = gdal.Open('Chave_E/E.bil')\n",
    "transform = E_raster.GetGeoTransform()\n",
    "xOrigin = transform[0]\n",
    "yOrigin = transform[3]\n",
    "pixelWidth = transform[1]\n",
    "pixelHeight = transform[5]\n",
    "E_band = E_raster.GetRasterBand(1)"
   ]
  },
  {
   "cell_type": "code",
   "execution_count": 14,
   "metadata": {
    "collapsed": false
   },
   "outputs": [],
   "source": [
    "def getE(longitude, latitude):\n",
    "    px = int((longitude - xOrigin) / pixelWidth) #x pixel\n",
    "    py = int((latitude - yOrigin) / pixelHeight) #y pixel\n",
    "    intval = E_band.ReadAsArray(px,py,1,1)\n",
    "    return intval[0][0]"
   ]
  },
  {
   "cell_type": "code",
   "execution_count": 15,
   "metadata": {
    "collapsed": false
   },
   "outputs": [],
   "source": [
    "def chave(diameter, longitude, latitude):\n",
    "    E = getE(longitude, latitude)\n",
    "    logH = 0.893 - E + 0.760 * np.log(diameter) - 0.0340 * np.log(diameter)**2\n",
    "    height = np.exp(logH + 0.5 * 0.243**2)\n",
    "    return height"
   ]
  },
  {
   "cell_type": "code",
   "execution_count": 16,
   "metadata": {
    "collapsed": false
   },
   "outputs": [
    {
     "name": "stdout",
     "output_type": "stream",
     "text": [
      "19.3461034737\n",
      "21.8659500974\n",
      "24.1059242591\n"
     ]
    }
   ],
   "source": [
    "print chave(20, -70, -3)\n",
    "print chave(25, -70, -3)\n",
    "print chave(30, -70, -3)"
   ]
  },
  {
   "cell_type": "code",
   "execution_count": 18,
   "metadata": {
    "collapsed": false
   },
   "outputs": [
    {
     "data": {
      "text/plain": [
       "<matplotlib.axes.AxesSubplot at 0x7f707923a390>"
      ]
     },
     "execution_count": 18,
     "metadata": {},
     "output_type": "execute_result"
    },
    {
     "name": "stderr",
     "output_type": "stream",
     "text": [
      "/usr/lib/pymodules/python2.7/matplotlib/collections.py:548: FutureWarning: elementwise comparison failed; returning scalar instead, but in the future will perform elementwise comparison\n",
      "  if self._edgecolors == 'face':\n"
     ]
    },
    {
     "data": {
      "image/png": "[encoded data removed]",
      "text/plain": [
       "<matplotlib.figure.Figure at 0x7f7079261c10>"
      ]
     },
     "metadata": {},
     "output_type": "display_data"
    }
   ],
   "source": [
    "ind.plot.scatter(x=D, y=H)"
   ]
  }
 ],
 "metadata": {
  "kernelspec": {
   "display_name": "Python 2",
   "language": "python",
   "name": "python2"
  },
  "language_info": {
   "codemirror_mode": {
    "name": "ipython",
    "version": 2
   },
   "file_extension": ".py",
   "mimetype": "text/x-python",
   "name": "python",
   "nbconvert_exporter": "python",
   "pygments_lexer": "ipython2",
   "version": "2.7.6"
  }
 },
 "nbformat": 4,
 "nbformat_minor": 0
}
