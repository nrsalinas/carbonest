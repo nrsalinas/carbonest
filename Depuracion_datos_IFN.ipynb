{
 "cells": [
  {
   "cell_type": "markdown",
   "metadata": {},
   "source": [
    "# Depuracion datos Inventario Forestal Nacional\n",
    "\n",
    "El presente notebook realiza la exploración inicial y depuración de datos del Inventario Forestal Nacional.\n",
    "\n",
    "Se requieren los siguientes tablas enformato csv:\n",
    "\n",
    "1. `detritos`: Contiene los mediciones realizadas en detritos de madera.\n",
    "\n",
    "2. `ampie`: Mediciones de árboles muertos en pie.\n",
    "    \n",
    "3. `vegetacion`: Mediciones de árboles vivos. "
   ]
  },
  {
   "cell_type": "code",
   "execution_count": 9,
   "metadata": {
    "collapsed": false
   },
   "outputs": [],
   "source": [
    "import pandas as pd\n",
    "import numpy as np\n",
    "%matplotlib inline\n",
    "\n",
    "# Asignar nombres de archivos a variables\n",
    "#detritos = \"../data/IFN/detritos.csv\"\n",
    "#ampie =  \"../data/IFN/dasometricos/amp.csv\"\n",
    "vegetacion = \"../data/IFN/dasometricos/vegetacion.csv\"\n",
    "generalInfo = \"../data/IFN/informacion_general/informacion_general.csv\"\n",
    "\n",
    "# Leer archivos como Pandas dataframes\n",
    "#det = pd.read_csv(detritos) \n",
    "#amp = pd.read_csv(ampie)\n",
    "veg = pd.read_csv(vegetacion)\n",
    "info = pd.read_csv(generalInfo, encoding = 'utf8')"
   ]
  },
  {
   "cell_type": "markdown",
   "metadata": {},
   "source": [
    "# Detritos"
   ]
  },
  {
   "cell_type": "code",
   "execution_count": null,
   "metadata": {
    "collapsed": true
   },
   "outputs": [],
   "source": [
    "# Campos de mediciones de detritos\n",
    "\n",
    "CONS = \"CONS\" # Indice de medicion (int64)\n",
    "PLOT = \"PLOT\" # Indice conglomerado (int64)\n",
    "TRAN = \"TRAN\" # Transecto de detritos (str: 'A', 'B', 'C', 'D', 'E', 'F', 'G', 'H'). Hay registros sin transectos!!!\n",
    "SECC = \"SECC\" # Seccion del transecto donde se registro la pieza (str: 'II', 'III', 'I'). Hay registros sin seccion!!!!\n",
    "PIEZA = \"PIEZA\" # Numero consecutivo de la pieza en el transecto (float64). Deberia ser int64.\n",
    "TIPO = \"TIPO\" # Tipo de detrito (str: 'DFM', 'DGM')\n",
    "DIST = \"DIST\" # Distancia del detrito en cada seccion (float64 0.0-10.0)\n",
    "AZIMUT = \"AZIMUT\" # Orientacion de la pieza respecto al transecto ?????????? (float64?, 0-360)\n",
    "D1 = \"D1\" # Primer diametro de la pieza en cm (float64)\n",
    "D2 = \"D2\" # Segundo diametro de la pieza en cm (float64)\n",
    "INCL = \"INCL\" # Inclinacion de la pieza (float64). De acuerdo al manual deberia estar en el rango [-90, 90] pero en la hoja de calculo esta sesgada a valores positivos y hay valores [90, 180].\n",
    "PI_cm = \"PI_cm\" # Penetracion del penetrometro en cm (float64). Verificar valores maximos.\n",
    "PI_golpes = \"PI_golpes\" # Golpes ejecutados con el penetrometro (float64). Por que es un numero real????\n",
    "PESO_RODAJA = \"PESO_RODAJA\" # Peso de la rodaja en gr (float64)\n",
    "ESP1 = \"ESP1\" # Primer espesor de la rodaja en cm (float64)\n",
    "ESP2 = \"ESP2\" # Segundo espesor de la rodaja en cm (float64)\n",
    "ESP3 = \"ESP3\" # Tercer espesor de la rodaja en cm (float64)\n",
    "ESP4 = \"ESP4\" # Cuarto espesor de la rodaja en cm (float64)\n",
    "PESO_MUESTRA = \"PESO_MUESTRA\" # Peso fresco de la muestra en gr (float64)\n",
    "VOL = \"VOL\" # Volumen de la muestra en ml (float64). Este campo no esta incluido en los formatos del INF!!!!\n",
    "PESO_SECO = \"PESO_SECO\" # Peso fresco de la muestra en gr (float64)\n",
    "DENS = \"DENS\" # Densidad de madera de la muestra en gr/ml (float64)"
   ]
  },
  {
   "cell_type": "code",
   "execution_count": null,
   "metadata": {
    "collapsed": false
   },
   "outputs": [],
   "source": [
    "# Convertir seccion muestreo de detritos en enteros para ahorrar espacio en db\n",
    "try:\n",
    "    det[SECC].replace(to_replace = ['I','II','III'], value = [1,2,3], inplace = True)\n",
    "    # Si no existieran valores faltantes el reemplazo produciria una serie de int64, \n",
    "    # de lo contrario la columna resultante es float64\n",
    "except:\n",
    "    pass\n",
    "\n",
    "for fi in [CONS, PLOT, SECC]:\n",
    "    if det[fi].dtype != np.int64:\n",
    "        print \"Campo {0} tiene tipo inapropiado ({1} en vez de int64).\".format(fi, det[fi].dtype)\n",
    "        if len(det[fi][det[fi].isna()]) > 1:\n",
    "            print \"Valores nulos son considerados np.float64:\"\n",
    "            print det[[fi, PLOT]][det[fi].isna()].join(info[['PLOT', 'SOCIO']].set_index(PLOT), \n",
    "                                                       on=PLOT, rsuffix='_info')\n",
    "        else:\n",
    "            print \"Valores np.float64 a revisar:\"\n",
    "            print det[fi][det[fi].map(lambda x: x % 1.0 != 0)].dropna()\n",
    "            \n",
    "        \n",
    "for fi in [AZIMUT, PIEZA, DIST, D1, D2, INCL, PI_cm, PESO_RODAJA, ESP1, ESP2, ESP3, ESP4, \n",
    "           PESO_MUESTRA, VOL, PESO_SECO, DENS, PI_golpes]:\n",
    "    if det[fi].dtype != np.float64:\n",
    "        print \"Campo {0} tiene tipo inapropiado ({1}en vez de float64).\".format(fi, det[fi].dtype)\n",
    "\n",
    "for fi in [TRAN, TIPO]:\n",
    "    non_strings = det[fi].dropna()[~det[fi].dropna().apply(type).eq(str)]\n",
    "    if len(non_strings):\n",
    "        print \"Campo {0} tiene tipo inapropiado ({1} en vez de str).\".format(fi, non_strings.dtype)\n"
   ]
  },
  {
   "cell_type": "code",
   "execution_count": null,
   "metadata": {
    "collapsed": false
   },
   "outputs": [],
   "source": [
    "# Indices no debe contener duplicado\n",
    "if len(det[det[CONS].duplicated()]):\n",
    "    print \"Tabla {0} contiene indices duplicados.\".format(detritos)\n",
    "        \n",
    "for tr in det[TRAN].dropna().unique():\n",
    "    if tr not in ['A', 'B', 'C', 'D', 'E', 'F', 'G', 'H']:\n",
    "        print \"`{0}` no es un valor valido de transecto de detrito\".format(tr)\n",
    "        \n",
    "if len(det[det[TRAN].isna()]):\n",
    "    print \"Piezas de detritos no tienen transecto:\"\n",
    "    print det[[PLOT, CONS, TRAN]][det[TRAN].isna()].join(info[['PLOT', 'SOCIO']].set_index(PLOT), \n",
    "                                                         on=PLOT, rsuffix='_info')\n",
    "        \n",
    "for tr in det[SECC].dropna().unique():\n",
    "    if tr not in [1,2,3]:\n",
    "        print \"`{0}` no es un valor valido de transecto de detrito\".format(tr)\n",
    "\n",
    "for tr in det[TIPO].dropna().unique():\n",
    "    if tr not in ['DFM', 'DGM']:\n",
    "        print \"`{0}` no es un valor valido de tipo de detrito\".format(tr)\n",
    "        \n",
    "if len(det[(det[TIPO] == 'DFM') & (((det[D1] >= 20) & (det[D2].isna())) | \n",
    "                                   (det[D1] + det[D2] >= 40))][[TIPO, D1, D2]]):\n",
    "    print \"Tipo de detrito probablemente mal asignado\"\n",
    "    print det[[TIPO, D1, D2, PLOT]][(det[TIPO] == 'DFM') & (((det[D1] >= 20) & (det[D2].isna()))\n",
    "            | (det[D1] + det[D2] >= 40))].join(info[['PLOT', 'SOCIO']].set_index(PLOT), \n",
    "            on=PLOT, rsuffix='_info')\n",
    "\n",
    "if len(det[(det[TIPO] == 'DGM') & (((det[D1] < 20) & (det[D2].isna())) | (det[D1] + det[D2] < 40))\n",
    "          ][[TIPO, D1, D2]]):\n",
    "    print \"Tipo de detrito probablemente mal asignado\"\n",
    "    print det[[TIPO, D1, D2, PLOT]][(det[TIPO] == 'DGM') & (((det[D1] < 20) & (det[D2].isna())) \n",
    "            | (det[D1] + det[D2] < 40))].join(info[['PLOT', 'SOCIO']].set_index(PLOT), \n",
    "            on=PLOT, rsuffix='_info')\n",
    "\n",
    "if det[DIST].min() < 0:\n",
    "    print \"Rango distancia tiene valores negativos.\"\n",
    "if det[DIST].max() > 10:\n",
    "    print \"Rango distancia sobrepasa el valor permitido (10).\"\n",
    "    print det[[DIST, PLOT]][det[DIST] > 10].join(info[['PLOT', 'SOCIO']].set_index(PLOT), on=PLOT, \n",
    "            rsuffix='_info')\n",
    "\n",
    "# Distancias de detritos finos son depuradas de acuerdo a la guia de toma de datos del IFN. \n",
    "# Teoricamente, este subset de distancias deben encontrarse en el rango [9.0--10.0], pues\n",
    "# son observaciones realizadas unicamente en el ultimo metro de cada seccion de detritos.\n",
    "# De esta manera se sume que todos los valores encontrados en el rango [0.0--1.0] corresponden\n",
    "# a mediciones realizadas con el punto de referencia equivocado, extremo final de la seccion\n",
    "# en lugar del punto inicial.\n",
    "det.loc[(det[TIPO] == 'DFM') & (det[DIST] <= 1), DIST] = det[DIST][(det[TIPO] == 'DFM') & \n",
    "    (det[DIST] < 1)].apply(lambda x: (1.0 - x) + 9)\n",
    "\n",
    "if len(det[(det[TIPO] == 'DFM') & (det[DIST] > 1) & (det[DIST] < 9)]):\n",
    "    print \"Detritos finos contienen valores no permitidos de distancia:\"\n",
    "    print det[[TIPO, DIST, PLOT]][(det[TIPO] == 'DFM') & (det[DIST] > 1) & (det[DIST] < 9)\n",
    "            ].join(info[['PLOT', 'SOCIO']].set_index(PLOT), on=PLOT, rsuffix='_info')\n",
    "\n",
    "if det[AZIMUT].min() < 0:\n",
    "    print \"Rango Azimut tiene valores negativos.\"\n",
    "if det[AZIMUT].max() > 360:\n",
    "    print \"Rango Azimut sobrepasa el valor permitido (360)\"\n",
    "\n",
    "# Valores de diametro 0.0 deben ser nulos\n",
    "det[D2].replace(to_replace = 0.0, value = np.nan, inplace = True)\n",
    "\n",
    "if det[D1].min() < 2 or det[D2].min() < 2:\n",
    "    print \"Rango de diametro tiene valores inferiores a 2 cm.\"\n",
    "    print det[[D1, D2, PLOT]][(det[D1] < 2) | (det[D2] < 2)].join(info[['PLOT', 'SOCIO']\n",
    "            ].set_index(PLOT), on=PLOT, rsuffix='_info')\n",
    "\n",
    "#\n",
    "# ‚¿Como tratar los valores de inclinación? ¿Están simplemente desfazados 90 grados?\n",
    "#   \n",
    "if det[INCL].min() < -90:\n",
    "    print \"Rango inclinacion tiene valores menores al valor permitido (-90).\"\n",
    "if det[INCL].max() > 90:\n",
    "    print \"Rango inclinacion sobrepasa el valor permitido (90)\"\n",
    "    \n",
    "if det[PI_cm].min() < 0:\n",
    "    print \"Hay valores negativos de entrada del penetrometro.\"\n",
    "if det[PI_cm].max() > 20:\n",
    "    print \"Valores maximos del entrada del penetrometro mayores al valor sugerido en el manual:\"\n",
    "    #print det[[PI_cm, D1, D2]][det[PI_cm] > 20]\n",
    "    print det[[PI_cm, PLOT]][det[PI_cm] > 20].join(info[['PLOT', 'SOCIO']].set_index(PLOT), \n",
    "            on=PLOT, rsuffix='_info')\n",
    "\n",
    "if len(det[PI_cm][(det[PI_cm] > det[D1]) | (det[PI_cm] > det[D1])]):\n",
    "    print \"Valores de entrada del penetrómetro son mayores al diametro registrado:\"\n",
    "    print det[[PI_cm, D1, D2, PLOT]][(det[PI_cm] > det[D1]) | (det[PI_cm] > det[D1])].join(\n",
    "            info[['PLOT', 'SOCIO']].set_index(PLOT), on=PLOT, rsuffix='_info')\n",
    "\n",
    "if det[PI_golpes].min() < 0:\n",
    "    print \"Valores negativos de golpes al penetrometro.\"\n",
    "if det[PI_golpes].max() > 25:\n",
    "    print \"Valores maximos de golpes del penetrometro son dudosos:\"\n",
    "    #print det[PI_golpes][det[PI_golpes] > 20]\n",
    "    print det[[PI_golpes, PLOT]][det[PI_golpes] > 20].join(info[['PLOT', 'SOCIO']].set_index(PLOT), \n",
    "            on=PLOT, rsuffix='_info')\n",
    "    \n",
    "# Sets de valores de espesor de pieza son dudosos si la desviacion estandar es mayor a 0.3 \n",
    "# la media del set\n",
    "if len(det[(det[[ESP1, ESP2, ESP3, ESP4]].std(1) / det[[ESP1, ESP2, ESP3, ESP4]].mean(1)) > 0.3]):\n",
    "    print \"Algunos conjuntos de espesor de pieza tienen una variacion muy alta:\"\n",
    "    print det[[ESP1, ESP2, ESP3, ESP4, PLOT]][(det[[ESP1, ESP2, ESP3, ESP4]].std(1) / det[[ESP1, \n",
    "                ESP2, ESP3, ESP4]].mean(1)) > 0.3].join(info[['PLOT', 'SOCIO']].set_index(PLOT), \n",
    "                on=PLOT, rsuffix='_info')\n",
    "    \n",
    "if det[(det[PESO_MUESTRA] < det[PESO_SECO]) | (det[PESO_MUESTRA].isna() & (det[PESO_RODAJA] < \n",
    "        det[PESO_SECO]))].size:\n",
    "    print \"Peso fresco es menor al peso seco:\"\n",
    "    print det[[PESO_MUESTRA, PESO_RODAJA, PESO_SECO, PLOT]][(det[PESO_MUESTRA] < det[PESO_SECO]) \n",
    "            | (det[PESO_MUESTRA].isna() & (det[PESO_RODAJA] < det[PESO_SECO]))].join(info[['PLOT', \n",
    "            'SOCIO']].set_index(PLOT), on=PLOT, rsuffix='_info')\n",
    "\n",
    "if det[(det[PESO_MUESTRA] > det[PESO_RODAJA])].size:\n",
    "    print \"Peso del fragmento muestreado es mayor al de la rodaja:\"\n",
    "    print det[[TIPO, PESO_MUESTRA, PESO_RODAJA, PESO_SECO, PLOT]][(det[PESO_MUESTRA] > \n",
    "            det[PESO_RODAJA])].join(info[['PLOT', 'SOCIO']].set_index(PLOT), on=PLOT, \n",
    "            rsuffix='_info')\n",
    "    \n",
    "if det[det[PESO_MUESTRA].isna() & det[PESO_RODAJA].isna()].size:\n",
    "    print \"Falta peso fresco de detrito:\"\n",
    "    print det[[TIPO, PESO_MUESTRA, PESO_RODAJA, PESO_SECO, PLOT]][det[PESO_MUESTRA].isna() & \n",
    "            det[PESO_RODAJA].isna()].join(info[['PLOT', 'SOCIO']].set_index(PLOT), on=PLOT, \n",
    "            rsuffix='_info')"
   ]
  },
  {
   "cell_type": "markdown",
   "metadata": {},
   "source": [
    "# Vegetacion"
   ]
  },
  {
   "cell_type": "code",
   "execution_count": null,
   "metadata": {
    "collapsed": true
   },
   "outputs": [],
   "source": [
    "CONS = \"CONS\" # Indice de medicion comun con arboles muertos en pie (int)\n",
    "PLOT = \"PLOT\" # Indice conglomerado (int)\n",
    "SPF = \"SPF\" # Indice subparcela (int 1-5)\n",
    "IND = \"IND\" # Indice de individuo en el conglomerado (int)\n",
    "TAMANO = \"TAMANO\" # Tamaño del individuo (str: 'L', 'F', o 'FG')\n",
    "AZIMUT = \"AZIMUT\" # Orientacion del individuo desde el centro de la subparcela (int, 0-360)\n",
    "DIST = \"DIST\" # Distancia en m del individuo al centro de la parcela (float, 0-15.74)\n",
    "DAP1 = \"DAP1\" # Primer diámetro estimado del tallo en cm (float)\n",
    "DAP2 = \"DAP2\" # Segundo diámetro estimado del tallo en cm (float)\n",
    "DAPA = \"DAPA\" # Diametro promedio del tallo en cm (float)\n",
    "ALTF = \"ALTF\" # Altura fuste en m (float)\n",
    "ALTT = \"ALTT\" # Altura total en m (float)\n",
    "FAMILIA = \"FAMILIA\" # Familia taxonomica (str)\n",
    "GENERO = \"GENERO\" # Genero taxonomico (str)\n",
    "EPITETO = \"EPITETO\" # Epiteto taxonomico (str)\n",
    "AUTOR = \"AUTOR\" # Autor taxonomico (str)\n",
    "ESPECIE = \"ESPECIE\" # Binomio taxonomico (str)\n",
    "DENS = \"DENS\" # Densidad de la madera en gr/ml (float)\n",
    "FUENTE_DENSIDAD = \"FUENTE_DENSIDAD\" # Referencia bibliografica de la densidad de la madera (str)"
   ]
  },
  {
   "cell_type": "code",
   "execution_count": null,
   "metadata": {
    "collapsed": false
   },
   "outputs": [],
   "source": [
    "for fi in [CONS, PLOT, SPF, IND]:\n",
    "    if veg[fi].dtype != np.int64:\n",
    "        print \"Campo {0} tiene tipo inapropiado ({1} en vez de int64).\".format(fi, veg[fi].dtype)\n",
    "        if len(veg[fi][det[fi].isna()]) > 1:\n",
    "            print \"Valores nulos son considerados np.float64:\"\n",
    "            print veg[[fi, PLOT]][veg[fi].isna()].join(info[['PLOT', 'SOCIO']].set_index(PLOT), \n",
    "                                                       on=PLOT, rsuffix='_info')\n",
    "        else:\n",
    "            print \"Valores np.float64 a revisar:\"\n",
    "            print veg[fi][veg[fi].map(lambda x: x % 1.0 != 0)].dropna()\n",
    "            \n",
    "        \n",
    "for fi in [AZIMUT, DIST, DAP1, DAP2, DAPA, ALTT, ALTF, DENS]:\n",
    "    if veg[fi].dtype != np.float64:\n",
    "        print \"Campo {0} tiene tipo inapropiado ({1}en vez de float64).\".format(fi, veg[fi].dtype)\n",
    "\n",
    "for fi in [FAMILIA, GENERO, EPITETO, AUTOR, ESPECIE, FUENTE_DENSIDAD, TAMANO]:\n",
    "    non_strings = veg[fi].dropna()[~veg[fi].dropna().apply(type).eq(str)]\n",
    "    if len(non_strings):\n",
    "        print \"Campo {0} tiene tipo inapropiado ({1} en vez de str).\".format(fi, non_strings.dtype)"
   ]
  },
  {
   "cell_type": "code",
   "execution_count": null,
   "metadata": {
    "collapsed": false
   },
   "outputs": [],
   "source": [
    "if len(veg[veg[CONS].duplicated()]):\n",
    "    print \"Tabla {0} contiene indices duplicados.\".format(vegetacion)\n",
    "\n",
    "for spf in veg[SPF].unique():\n",
    "    if spf not in range(1,6):\n",
    "        print \"Valor no valido de parcela: {0}\".format(spf)\n",
    "        \n",
    "for tam in veg[TAMANO].unique():\n",
    "    if tam not in ['L', 'F', 'FG']:\n",
    "        print \"Valor no valido de tamaño de individuo: {0}\".format(tam)\n",
    "        \n",
    "if veg[AZIMUT].min() < 0:\n",
    "    print \"Azimut contiene valores no aceptados.\"\n",
    "if veg[AZIMUT].max() > 360:\n",
    "    print \"Azimut contiene valores no aceptados.\"\n",
    "    \n",
    "# Verificar asignacion de clases diametricas\n",
    "if len(veg[(veg[TAMANO] != 'B') & ((veg[DAPA] < 2.5) | ((veg[DAP1] + veg[DAP2]) < 5.0))]):\n",
    "    print \"Brinzales están asignados a categoria erronea:\"\n",
    "    print veg[[PLOT, TAMANO, DAPA, DAP1, DAP2]][(veg[TAMANO] != 'B') & ((veg[DAPA] < 2.5) \n",
    "            | ((veg[DAP1] + veg[DAP2]) < 5.0))].join(info[['PLOT', 'SOCIO']].set_index(PLOT),\n",
    "            on=PLOT, rsuffix='_info')\n",
    "\n",
    "if len(veg[(veg[TAMANO] != 'L') & (((veg[DAPA] < 10) & (veg[DAPA] >= 2.5)) | (((veg[DAP1] + \n",
    "        veg[DAP2]) < 20) & ((veg[DAP1] + veg[DAP2]) >= 5.0)))]):\n",
    "    print \"Latizales están asignados a categoria erronea:\"\n",
    "    print veg[[PLOT, TAMANO, DAPA, DAP1, DAP2]][(veg[TAMANO] != 'L') & (((veg[DAPA] < 10) & \n",
    "            (veg[DAPA] >= 2.5)) | (((veg[DAP1] + veg[DAP2]) < 20) & ((veg[DAP1] + \n",
    "            veg[DAP2]) >= 5.0)))].join(info[['PLOT', 'SOCIO']].set_index(PLOT), on=PLOT, \n",
    "            rsuffix='_info')\n",
    "    \n",
    "if len(veg[(veg[TAMANO] != 'F') & (((veg[DAPA] < 30) & (veg[DAPA] >= 10)) | (((veg[DAP1] + \n",
    "        veg[DAP2]) < 60) & ((veg[DAP1] + veg[DAP2]) >= 20)))]):\n",
    "    print \"Fustales están asignados a categoria erronea:\"\n",
    "    print veg[[PLOT, TAMANO, DAPA, DAP1, DAP2]][(veg[TAMANO] != 'F') & (((veg[DAPA] < 30) & \n",
    "            (veg[DAPA] >= 10)) | (((veg[DAP1] + veg[DAP2]) < 60) & ((veg[DAP1] + \n",
    "            veg[DAP2]) >= 20)))].join(info[['PLOT', 'SOCIO']].set_index(PLOT), on=PLOT, \n",
    "            rsuffix='_info')\n",
    "    \n",
    "if len(veg[(veg[TAMANO] != 'FG') & ((veg[DAPA] >= 30) | ((veg[DAP1] + veg[DAP2]) >= 60))]):\n",
    "    print \"Fustales grandes están asignados a categoria erronea:\"\n",
    "    print veg[[PLOT, TAMANO, DAPA, DAP1, DAP2]][(veg[TAMANO] != 'FG') & ((veg[DAPA] >= 30) \n",
    "            | ((veg[DAP1] + veg[DAP2]) >= 60))].join(info[['PLOT', 'SOCIO']].set_index(PLOT),\n",
    "            on=PLOT, rsuffix='_info')\n",
    "\n",
    "# Verificar si las distancias corresponden a las categorias de edad.\n",
    "if len(veg[(veg[DIST] > 3) & (veg[TAMANO] == 'L')]):\n",
    "    print \"Latizales registrados afuera del area aceptada:\"\n",
    "    print veg[[TAMANO, DIST, DAPA, PLOT]][(veg[DIST] > 3) & (veg[TAMANO] == 'L')].join(info[[\n",
    "            'PLOT', 'SOCIO']].set_index(PLOT), on=PLOT, rsuffix='_info')\n",
    "    \n",
    "if len(veg[(veg[DIST] > 7) & (veg[TAMANO] == 'F')]):\n",
    "    print \"Fustales registrados afuera del area aceptada:\"\n",
    "    print veg[[TAMANO, DIST, DAPA, PLOT]][(veg[DIST] > 7) & (veg[TAMANO] == 'F')].join(info[[\n",
    "            'PLOT', 'SOCIO']].set_index(PLOT), on=PLOT, rsuffix='_info')\n",
    "    \n",
    "if len(veg[veg[DIST] > 15]):\n",
    "    print \"Individuos registrados afuera del area de la subparcela:\"\n",
    "    print veg[[TAMANO, DIST, DAPA, PLOT]][veg[DIST] > 15].join(info[['PLOT', 'SOCIO']]\n",
    "            .set_index(PLOT), on=PLOT, rsuffix='_info')\n",
    "\n",
    "# Verificar estimacion DAP promedio\n",
    "if veg[((veg[DAP1] + veg[DAP2]) - (veg[DAPA] * 2)) > 0.1].size:\n",
    "    print \"Errores en la estimación del DAP promedio?:\"\n",
    "    print veg[[DAPA, DAP1, DAP2, PLOT]][((veg[DAP1] + veg[DAP2]) - (veg[DAPA] * 2)) > \n",
    "            0.01].join(info[['PLOT', 'SOCIO']].set_index(PLOT), on=PLOT, rsuffix='_info')\n",
    "\n",
    "# Altura total siempre debe ser mayor a la altura del fuste\n",
    "if veg[veg[ALTF] > veg[ALTT]].size:\n",
    "    print \"Individuos con altura del fuste mayor a la altura total:\"\n",
    "    print veg[[ALTF, ALTT, PLOT]][veg[ALTF] > veg[ALTT]].join(info[['PLOT', 'SOCIO']]\n",
    "            .set_index(PLOT), on=PLOT, rsuffix='_info')"
   ]
  },
  {
   "cell_type": "markdown",
   "metadata": {},
   "source": [
    "# Informacion general"
   ]
  },
  {
   "cell_type": "code",
   "execution_count": 11,
   "metadata": {
    "collapsed": false
   },
   "outputs": [],
   "source": [
    "CONS = u'CONS' # Indice informacion (int64)\n",
    "PLOT = u'PLOT' # Indice conglomerado (int64)\n",
    "DEPARTAMENTO = u'DEPARTAMENTO' # Departamento (str)\n",
    "REGION = u'REGION' # Region biogeografica (str: 'Amazonia', 'Andes', 'Pacifico', 'Orinoquia', 'Caribe')\n",
    "FECHA_CAMPO = u'FECHA_CAMPO' # Año de toma de datos (int64)\n",
    "SOCIO = u'SOCIO' # Institucion que ejecuta el levantamiento de datos (str: 'Sinchi', 'IAvH', 'IIAP')\n",
    "BOT_TOT = u'BOT_TOT' # ???????????????? (str: 'Si', 'No'). Deberia ser boolean.\n",
    "CARB = u'CARB' # Estimacion de carbono ????? (str: 'Si', 'No'). Deberia ser boolean.\n",
    "SPF = u'SPF-C' # ??????? (int64 0-5)\n",
    "FERT = u'FERT' # Estimacion fertilidad ????????????? (str: 'Si', 'No'). Deberia ser boolean.\n",
    "DETR = u'DETR' # Toma de detritos ????????? (str: 'Si', 'No'). Deberia ser boolean."
   ]
  },
  {
   "cell_type": "code",
   "execution_count": 4,
   "metadata": {
    "collapsed": false
   },
   "outputs": [
    {
     "data": {
      "text/plain": [
       "Index([u'CONS', u'PLOT', u'DEPARTAMENTO', u'REGION', u'FECHA_CAMPO', u'SOCIO',\n",
       "       u'BOT_TOT', u'CARB', u'SPF-C', u'FERT', u'DETR'],\n",
       "      dtype='object')"
      ]
     },
     "execution_count": 4,
     "metadata": {},
     "output_type": "execute_result"
    }
   ],
   "source": [
    "info.columns"
   ]
  },
  {
   "cell_type": "code",
   "execution_count": 20,
   "metadata": {
    "collapsed": false
   },
   "outputs": [],
   "source": [
    "# Verificar el tipo de dato an cada campo de la tabla informaciongeneral\n",
    "for fi in [CONS, PLOT, FECHA_CAMPO, SPF]:\n",
    "    if info[fi].dtype != np.int64:\n",
    "        print \"Campo {0} tiene tipo inapropiado ({1} en vez de int64).\".format(fi, veg[fi].dtype)\n",
    "        if len(info[fi][det[fi].isna()]) > 1:\n",
    "            print \"Valores nulos son considerados np.float64:\"\n",
    "            print info[[fi, PLOT, SOCIO]]\n",
    "        else:\n",
    "            print \"Valores np.float64 a revisar:\"\n",
    "            print info[fi][info[fi].map(lambda x: x % 1.0 != 0)].dropna()\n",
    "            \n",
    "for fi in [DEPARTAMENTO, REGION, SOCIO]:\n",
    "    non_strings = info[fi].dropna()[~info[fi].dropna().apply(type).eq(unicode)]\n",
    "    if len(non_strings):\n",
    "        print \"Campo {0} tiene tipo inapropiado ({1} en vez de unicode).\".format(fi, non_strings.dtype)\n",
    "\n",
    "###########################################\n",
    "# Se asume que los campos BOT_TOT, fertilidad y detritos son boolean en ves de texto\n",
    "###########################################\n",
    "try:\n",
    "    info[BOT_TOT].replace(to_replace = [u'Si', u'No'], value = [True, False], inplace = True)\n",
    "    info[FERT].replace(to_replace = [u'Si', u'No'], value = [True, False], inplace = True)\n",
    "    info[DETR].replace(to_replace = [u'Si', u'No'], value = [True, False], inplace = True)\n",
    "except TypeError, ErrorMessage:\n",
    "    if ErrorMessage.args[0] == \"Cannot compare types 'ndarray(dtype=bool)' and 'unicode'\":\n",
    "        pass\n",
    "except:\n",
    "    raise\n",
    "    \n",
    "for fi in [BOT_TOT, DETR, FERT]:\n",
    "    if info[fi].dtype != np.bool:\n",
    "        print \"Campo {0} tiene tipo inapropiado ({1} en vez de np.bool).\".format(fi, veg[fi].dtype)"
   ]
  },
  {
   "cell_type": "code",
   "execution_count": null,
   "metadata": {
    "collapsed": true
   },
   "outputs": [],
   "source": [
    "# Verificar rango de datos\n"
   ]
  },
  {
   "cell_type": "code",
   "execution_count": 19,
   "metadata": {
    "collapsed": false
   },
   "outputs": [
    {
     "data": {
      "text/plain": [
       "array([ True, False], dtype=bool)"
      ]
     },
     "execution_count": 19,
     "metadata": {},
     "output_type": "execute_result"
    }
   ],
   "source": [
    "info.FERT.unique()"
   ]
  }
 ],
 "metadata": {
  "kernelspec": {
   "display_name": "Python 2",
   "language": "python",
   "name": "python2"
  },
  "language_info": {
   "codemirror_mode": {
    "name": "ipython",
    "version": 2
   },
   "file_extension": ".py",
   "mimetype": "text/x-python",
   "name": "python",
   "nbconvert_exporter": "python",
   "pygments_lexer": "ipython2",
   "version": "2.7.6"
  }
 },
 "nbformat": 4,
 "nbformat_minor": 0
}
