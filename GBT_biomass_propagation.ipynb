{
 "cells": [
  {
   "cell_type": "code",
   "execution_count": null,
   "metadata": {
    "collapsed": true
   },
   "outputs": [],
   "source": [
    "import gdal\n",
    "import numpy as np\n",
    "import pandas as pd\n",
    "from sklearn.ensemble import GradientBoostingRegressor\n",
    "from sklearn.model_selection import train_test_split\n",
    "from sklearn.metrics import r2_score\n"
   ]
  },
  {
   "cell_type": "code",
   "execution_count": null,
   "metadata": {},
   "outputs": [],
   "source": [
    "alt_file = \"/home/nelsonsalinas/Documents/cust_layers/alt/alt.tif\"\n",
    "\n",
    "prec_folder = \"/home/nelsonsalinas/Documents/cust_layers/precp\"\n",
    "suff = ['01', '02', '03', '04', '05', '06', '07', '08', '09', '10', '11', '12']\n",
    "prec_files = [\"{0}/vent_prec_{1}.tif\".format(prec_folder, x) for x in suff]\n",
    "\n",
    "bio_var_folder = \"/home/nelsonsalinas/Documents/WorldClim/v2/bio_var_30_sec\"\n",
    "suff = ['2', '3', '4', '5', '6', '7', '8', '9', '10', '11', '12', '13', '14', '14', '15', '16', '17', '18', '19', '20']\n",
    "bio_var_files = [\"{0}/compr_vent_{1}.tif\".format(bio_var_folder, x) for x in suff]\n",
    "\n",
    "alt_ras = gdal.Open(alt_file)\n",
    "#prec_ras = [gdal.Open(x) for x in prec_files]\n",
    "#bio_var_ras = [gdal.Open(x) for x in bio_var_files]\n",
    "\n",
    "transform = alt_ras.GetGeoTransform()\n",
    "altXOrigin = transform[0]\n",
    "altYOrigin = transform[3]\n",
    "altPixelWidth = transform[1]\n",
    "altPixelHeight = transform[5]\n",
    "\n",
    "alt_band = alt_ras.GetRasterBand(1)\n",
    "alt_arr = alt_band.ReadAsArray(0, 0, alt_ras.RasterXSize, alt_ras.RasterYSize)\n",
    "#alt = None\n",
    "\"\"\"\n",
    "prec_arrs = []\n",
    "for prfi in prec_files:\n",
    "    prec_ras = gdal.Open(prfi)\n",
    "    prec_band = prec_ras.GetRasterBand(1)\n",
    "    prec_arrs.append(prec_band.ReadAsArray(0, 0, prec_ras.RasterXSize, prec_ras.RasterYSize))\n",
    "    prfi = None\n",
    "    \n",
    "bio_var_arrs = []\n",
    "for biofi in bio_var_files:\n",
    "    bio_var_ras = gdal.Open(biofi) \n",
    "    bio_var_band = bio_var_ras.GetRasterBand(1)\n",
    "    bio_var_arrs.append(bio_var_band.ReadAsArray(0, 0, bio_var_ras.RasterXSize, bio_var_ras.RasterYSize))\n",
    "    biofi = None\n",
    "\"\"\""
   ]
  },
  {
   "cell_type": "code",
   "execution_count": null,
   "metadata": {},
   "outputs": [],
   "source": [
    "biomass = pd.read_csv(\"biomass_all_20180118.csv\")"
   ]
  },
  {
   "cell_type": "code",
   "execution_count": null,
   "metadata": {},
   "outputs": [],
   "source": [
    "biomass['X'] = biomass.Longitud.apply(lambda x: int((x - altXOrigin) / altPixelWidth))\n",
    "biomass['Y'] = biomass.Latitud.apply(lambda y: int((y - altYOrigin) / altPixelHeight))"
   ]
  },
  {
   "cell_type": "code",
   "execution_count": null,
   "metadata": {},
   "outputs": [],
   "source": [
    "biopix = biomass.groupby(['X','Y']).size().reset_index().drop(columns=0)"
   ]
  },
  {
   "cell_type": "code",
   "execution_count": null,
   "metadata": {},
   "outputs": [],
   "source": [
    "biopix['chaveII'] = np.nan\n",
    "for row in biopix.itertuples():\n",
    "    biopix.loc[(biopix.X == row.X) & (biopix.Y == row.Y), 'chaveII'] = \\\n",
    "        biomass[(biomass.X == row.X) & (biomass.Y == row.Y)]['chaveII'].mean()"
   ]
  },
  {
   "cell_type": "code",
   "execution_count": null,
   "metadata": {},
   "outputs": [],
   "source": [
    "X = np.empty((biopix.shape[0], (len(prec_arrs) + 1)))"
   ]
  },
  {
   "cell_type": "code",
   "execution_count": null,
   "metadata": {},
   "outputs": [],
   "source": [
    "X[:,0] = alt_arr[biopix.Y, biopix.X]\n",
    "for inx,arr in enumerate(prec_arrs):\n",
    "    ni = inx + 1\n",
    "    X[:,ni] = arr[biopix.Y, biopix.X]"
   ]
  },
  {
   "cell_type": "code",
   "execution_count": null,
   "metadata": {},
   "outputs": [],
   "source": [
    "X_train, X_test, y_train, y_test = train_test_split(X, biopix.chaveII.as_matrix(), test_size=0.2)"
   ]
  },
  {
   "cell_type": "code",
   "execution_count": null,
   "metadata": {},
   "outputs": [],
   "source": [
    "gbtr = GradientBoostingRegressor(n_estimators=100, learning_rate=0.1)\n",
    "gbtr.fit(X_train, y_train)"
   ]
  },
  {
   "cell_type": "code",
   "execution_count": null,
   "metadata": {},
   "outputs": [],
   "source": [
    "r2_score(y_test, gbtr.predict(X_test))"
   ]
  }
 ],
 "metadata": {
  "kernelspec": {
   "display_name": "Python 2",
   "language": "python",
   "name": "python2"
  },
  "language_info": {
   "codemirror_mode": {
    "name": "ipython",
    "version": 2
   },
   "file_extension": ".py",
   "mimetype": "text/x-python",
   "name": "python",
   "nbconvert_exporter": "python",
   "pygments_lexer": "ipython2",
   "version": "2.7.14"
  }
 },
 "nbformat": 4,
 "nbformat_minor": 2
}
